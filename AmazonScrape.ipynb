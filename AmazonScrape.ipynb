{
 "cells": [
  {
   "cell_type": "code",
   "execution_count": null,
   "id": "5e192bd8-9d24-4917-8d2c-d05ac0de79de",
   "metadata": {},
   "outputs": [],
   "source": [
    "# import libraries\n",
    "\n",
    "from bs4 import BeautifulSoup\n",
    "import requests\n",
    "import smtplib\n",
    "import time\n",
    "import datetime\n"
   ]
  },
  {
   "cell_type": "code",
   "execution_count": null,
   "id": "11c61c8e-3acb-4b91-9bb5-fb332215bbea",
   "metadata": {},
   "outputs": [],
   "source": [
    "# connect to webpage\n",
    "\n",
    "url = 'https://www.amazon.com/Cq-acrylic-Dispenser-Countertop-Container/dp/B08CS3KMBY/ref=sr_1_8?crid=3H30A3P4AWN2T&keywords=clear+box&qid=1663956135&sprefix=clear+box%2Caps%2C323&sr=8-8'\n",
    "\n",
    "#retrieve User Agent from httpbin.org/get\n",
    "\n",
    "headers = {\"User-Agent\": \"Mozilla/5.0 (Macintosh; Intel Mac OS X 10_15_7) AppleWebKit/537.36 (KHTML, like Gecko) Chrome/105.0.0.0 Safari/537.36\", \"Accept-Encoding\":\"gzip, deflate\", \"Accept\":\"text/html,application/xhtml+xml,application/xml;q=0.9,*/*;q=0.8\", \"DNT\":\"1\",\"Connection\":\"close\", \"Upgrade-Insecure-Requests\":\"1\"}\n",
    "\n",
    "page = requests.get(url, headers = headers)\n",
    "\n",
    "Soup1 = BeautifulSoup(page.content, \"html.parser\")\n",
    "Soup2 = BeautifulSoup(Soup1.prettify(), \"html.parser\")\n",
    "\n",
    "#print(Soup2)\n",
    "\n",
    "title = Soup2.find(id=\"productTitle\").get_text()\n",
    "\n",
    "#print(title)\n",
    "\n",
    "price = Soup2.find(id=\"corePriceDisplay_desktop_feature_div\").get_text()\n",
    "\n",
    "print(title)\n",
    "print(price)\n"
   ]
  },
  {
   "cell_type": "code",
   "execution_count": null,
   "id": "609f67a5-6a60-4809-950e-d3f61e8c4bc4",
   "metadata": {},
   "outputs": [],
   "source": [
    "#create timestamp\n",
    "\n",
    "today = datetime.date.today()\n",
    "\n"
   ]
  },
  {
   "cell_type": "code",
   "execution_count": null,
   "id": "18476ee1-165d-4f3c-a5c3-9d19f95390a3",
   "metadata": {},
   "outputs": [],
   "source": [
    "#create csv file\n",
    "\n",
    "import csv\n",
    "\n",
    "header = ['Title', 'Price', 'Date']\n",
    "data = [title, price, today]\n",
    "\n",
    "with open('AmazonWebScraperData.csv', 'w', newline='', encoding='UTF8') as f:\n",
    "    writer = csv.writer(f)\n",
    "    writer.writerow(header)\n",
    "    writer.writerow(data)\n",
    "    \n",
    "    \n"
   ]
  },
  {
   "cell_type": "code",
   "execution_count": null,
   "id": "11d97d9b-0a63-455d-8467-1b4a524fda24",
   "metadata": {},
   "outputs": [],
   "source": [
    "#print working directory\n",
    "\n",
    "!pwd\n"
   ]
  },
  {
   "cell_type": "code",
   "execution_count": null,
   "id": "ecebae65-c037-45c3-bb97-ba170195aed4",
   "metadata": {},
   "outputs": [],
   "source": [
    "# make a data frame with the csv file\n",
    "\n",
    "import pandas as pd\n",
    "\n",
    "df = pd.read_csv(r'/Users/kaytlinbaker/AmazonWebScraperData.csv')\n",
    "print(df)\n",
    "\n"
   ]
  },
  {
   "cell_type": "code",
   "execution_count": null,
   "id": "c9c811a8-e1a9-48e4-9397-4f7e08aef2f1",
   "metadata": {},
   "outputs": [],
   "source": [
    "#appending data to the csv\n",
    "\n",
    "with open('AmazonWebScraperData.csv', 'a+', newline='', encoding='UTF8') as f:\n",
    "    writer = csv.writer(f)\n",
    "    writer.writerow(data)\n",
    "    \n",
    "    \n",
    "    "
   ]
  },
  {
   "cell_type": "code",
   "execution_count": null,
   "id": "617d2daf-e6b2-41d3-851f-e887555e31a3",
   "metadata": {},
   "outputs": [],
   "source": [
    "#create a function to import data\n",
    "\n",
    "def check_price():\n",
    "    url = 'https://www.amazon.com/Cq-acrylic-Dispenser-Countertop-Container/dp/B08CS3KMBY/ref=sr_1_8?crid=3H30A3P4AWN2T&keywords=clear+box&qid=1663956135&sprefix=clear+box%2Caps%2C323&sr=8-8'\n",
    "    headers = {\"User-Agent\": \"Mozilla/5.0 (Macintosh; Intel Mac OS X 10_15_7) AppleWebKit/537.36 (KHTML, like Gecko) Chrome/105.0.0.0 Safari/537.36\", \"Accept-Encoding\":\"gzip, deflate\", \"Accept\":\"text/html,application/xhtml+xml,application/xml;q=0.9,*/*;q=0.8\", \"DNT\":\"1\",\"Connection\":\"close\", \"Upgrade-Insecure-Requests\":\"1\"}\n",
    "    page = requests.get(url, headers = headers)\n",
    "    Soup1 = BeautifulSoup(page.content, \"html.parser\")\n",
    "    Soup2 = BeautifulSoup(Soup1.prettify(), \"html.parser\")\n",
    "    title = Soup2.find(id=\"productTitle\").get_text()\n",
    "    price = Soup2.find(id=\"corePriceDisplay_desktop_feature_div\").get_text()\n",
    "    \n",
    "    price=price.strip()[1:5]\n",
    "    title=title.strip()\n",
    "    \n",
    "    import datetime\n",
    "    today = datetime.date.today()\n",
    "    \n",
    "    import csv\n",
    "\n",
    "    header = ['Title', 'Price', 'Date']\n",
    "    data = [title, price, today]\n",
    "\n",
    "    with open('AmazonWebScraperData.csv', 'a+', newline='', encoding='UTF8') as f:\n",
    "        writer = csv.writer(f)\n",
    "        writer.writerow(data)\n",
    "\n",
    "\n"
   ]
  },
  {
   "cell_type": "code",
   "execution_count": null,
   "id": "25dc0b46-53ac-4351-85f3-dc3a3da57f4b",
   "metadata": {},
   "outputs": [],
   "source": [
    "#check daily\n",
    "\n",
    "while(True):\n",
    "    check_price()\n",
    "    time.sleep(86400)\n",
    "    if(price<7):\n",
    "    send_mail()"
   ]
  },
  {
   "cell_type": "code",
   "execution_count": 41,
   "id": "36203605-3f4f-40fd-9473-46bff7de14b9",
   "metadata": {},
   "outputs": [
    {
     "name": "stdout",
     "output_type": "stream",
     "text": [
      "                                               Title  Price        Date\n",
      "0  Cq acrylic Roll Tissue Box Holder with Cover S...   7.99  2022-09-23\n",
      "1  Cq acrylic Roll Tissue Box Holder with Cover S...   7.99  2022-09-23\n",
      "2  Cq acrylic Roll Tissue Box Holder with Cover S...   7.99  2022-09-23\n",
      "3  Cq acrylic Roll Tissue Box Holder with Cover S...   7.99  2022-09-23\n",
      "4  Cq acrylic Roll Tissue Box Holder with Cover S...   7.99  2022-09-23\n",
      "5  Cq acrylic Roll Tissue Box Holder with Cover S...   7.99  2022-09-23\n",
      "6  Cq acrylic Roll Tissue Box Holder with Cover S...   7.99  2022-09-23\n",
      "7  Cq acrylic Roll Tissue Box Holder with Cover S...   7.99  2022-09-23\n",
      "8  Cq acrylic Roll Tissue Box Holder with Cover S...   7.99  2022-09-23\n"
     ]
    }
   ],
   "source": [
    "import pandas as pd\n",
    "\n",
    "df = pd.read_csv(r'/Users/kaytlinbaker/AmazonWebScraperData.csv')\n",
    "print(df)"
   ]
  }
 ],
 "metadata": {
  "kernelspec": {
   "display_name": "Python 3 (ipykernel)",
   "language": "python",
   "name": "python3"
  },
  "language_info": {
   "codemirror_mode": {
    "name": "ipython",
    "version": 3
   },
   "file_extension": ".py",
   "mimetype": "text/x-python",
   "name": "python",
   "nbconvert_exporter": "python",
   "pygments_lexer": "ipython3",
   "version": "3.10.7"
  }
 },
 "nbformat": 4,
 "nbformat_minor": 5
}
